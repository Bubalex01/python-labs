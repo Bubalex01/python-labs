{
 "cells": [
  {
   "cell_type": "code",
   "execution_count": 102,
   "id": "c235e21d-c833-48a3-a323-8c38bc53da64",
   "metadata": {},
   "outputs": [
    {
     "name": "stdout",
     "output_type": "stream",
     "text": [
      "Задачи загружены.\n",
      "\n",
      "1. Добавить задачу\n",
      "2. Отметить задачу выполненной\n",
      "3. Удалить задачу\n",
      "4. Показать все задачи\n",
      "5. Поиск задач\n",
      "6. Показать задачи в категории\n",
      "7. Сохранить и выйти\n"
     ]
    },
    {
     "name": "stdin",
     "output_type": "stream",
     "text": [
      "Выберите действие (1-7):  4\n"
     ]
    },
    {
     "name": "stdout",
     "output_type": "stream",
     "text": [
      "[ ] 1. Подготовить презентацию для клиента #Работа\n",
      "[ ] 2. Подготовить отчет за квартал #Работа\n",
      "[ ] 3. Купить продукты #Дом\n",
      "[ ] 4. Поменять лампочку #Дом\n",
      "[ ] 5. Починить велосипед #Спорт\n",
      "[ ] 6. Собрать пазл #Хобби\n",
      "[ ] 7. Записаться на курс по английскому языку #Учеба\n",
      "\n",
      "1. Добавить задачу\n",
      "2. Отметить задачу выполненной\n",
      "3. Удалить задачу\n",
      "4. Показать все задачи\n",
      "5. Поиск задач\n",
      "6. Показать задачи в категории\n",
      "7. Сохранить и выйти\n"
     ]
    },
    {
     "name": "stdin",
     "output_type": "stream",
     "text": [
      "Выберите действие (1-7):  6\n",
      "Введите категорию для отображения задач:  Работа\n"
     ]
    },
    {
     "name": "stdout",
     "output_type": "stream",
     "text": [
      "[ ] Подготовить презентацию для клиента #Работа\n",
      "[ ] Подготовить отчет за квартал #Работа\n",
      "\n",
      "1. Добавить задачу\n",
      "2. Отметить задачу выполненной\n",
      "3. Удалить задачу\n",
      "4. Показать все задачи\n",
      "5. Поиск задач\n",
      "6. Показать задачи в категории\n",
      "7. Сохранить и выйти\n"
     ]
    },
    {
     "name": "stdin",
     "output_type": "stream",
     "text": [
      "Выберите действие (1-7):  2\n",
      "Введите номер задачи для отметки выполненной:  3\n"
     ]
    },
    {
     "name": "stdout",
     "output_type": "stream",
     "text": [
      "Задача отмечена как выполненная.\n",
      "\n",
      "1. Добавить задачу\n",
      "2. Отметить задачу выполненной\n",
      "3. Удалить задачу\n",
      "4. Показать все задачи\n",
      "5. Поиск задач\n",
      "6. Показать задачи в категории\n",
      "7. Сохранить и выйти\n"
     ]
    },
    {
     "name": "stdin",
     "output_type": "stream",
     "text": [
      "Выберите действие (1-7):  4\n"
     ]
    },
    {
     "name": "stdout",
     "output_type": "stream",
     "text": [
      "[ ] 1. Подготовить презентацию для клиента #Работа\n",
      "[ ] 2. Подготовить отчет за квартал #Работа\n",
      "[x] 3. Купить продукты #Дом\n",
      "[ ] 4. Поменять лампочку #Дом\n",
      "[ ] 5. Починить велосипед #Спорт\n",
      "[ ] 6. Собрать пазл #Хобби\n",
      "[ ] 7. Записаться на курс по английскому языку #Учеба\n",
      "\n",
      "1. Добавить задачу\n",
      "2. Отметить задачу выполненной\n",
      "3. Удалить задачу\n",
      "4. Показать все задачи\n",
      "5. Поиск задач\n",
      "6. Показать задачи в категории\n",
      "7. Сохранить и выйти\n"
     ]
    },
    {
     "name": "stdin",
     "output_type": "stream",
     "text": [
      "Выберите действие (1-7):  2\n",
      "Введите номер задачи для отметки выполненной:  7\n"
     ]
    },
    {
     "name": "stdout",
     "output_type": "stream",
     "text": [
      "Задача отмечена как выполненная.\n",
      "\n",
      "1. Добавить задачу\n",
      "2. Отметить задачу выполненной\n",
      "3. Удалить задачу\n",
      "4. Показать все задачи\n",
      "5. Поиск задач\n",
      "6. Показать задачи в категории\n",
      "7. Сохранить и выйти\n"
     ]
    },
    {
     "name": "stdin",
     "output_type": "stream",
     "text": [
      "Выберите действие (1-7):  4\n"
     ]
    },
    {
     "name": "stdout",
     "output_type": "stream",
     "text": [
      "[ ] 1. Подготовить презентацию для клиента #Работа\n",
      "[ ] 2. Подготовить отчет за квартал #Работа\n",
      "[x] 3. Купить продукты #Дом\n",
      "[ ] 4. Поменять лампочку #Дом\n",
      "[ ] 5. Починить велосипед #Спорт\n",
      "[ ] 6. Собрать пазл #Хобби\n",
      "[x] 7. Записаться на курс по английскому языку #Учеба\n",
      "\n",
      "1. Добавить задачу\n",
      "2. Отметить задачу выполненной\n",
      "3. Удалить задачу\n",
      "4. Показать все задачи\n",
      "5. Поиск задач\n",
      "6. Показать задачи в категории\n",
      "7. Сохранить и выйти\n"
     ]
    },
    {
     "name": "stdin",
     "output_type": "stream",
     "text": [
      "Выберите действие (1-7):  3\n",
      "Введите номер задачи для удаления:  5\n"
     ]
    },
    {
     "name": "stdout",
     "output_type": "stream",
     "text": [
      "Задача 'Починить велосипед' удалена.\n",
      "\n",
      "1. Добавить задачу\n",
      "2. Отметить задачу выполненной\n",
      "3. Удалить задачу\n",
      "4. Показать все задачи\n",
      "5. Поиск задач\n",
      "6. Показать задачи в категории\n",
      "7. Сохранить и выйти\n"
     ]
    },
    {
     "name": "stdin",
     "output_type": "stream",
     "text": [
      "Выберите действие (1-7):  4\n"
     ]
    },
    {
     "name": "stdout",
     "output_type": "stream",
     "text": [
      "[ ] 1. Подготовить презентацию для клиента #Работа\n",
      "[ ] 2. Подготовить отчет за квартал #Работа\n",
      "[x] 3. Купить продукты #Дом\n",
      "[ ] 4. Поменять лампочку #Дом\n",
      "[ ] 5. Собрать пазл #Хобби\n",
      "[x] 6. Записаться на курс по английскому языку #Учеба\n",
      "\n",
      "1. Добавить задачу\n",
      "2. Отметить задачу выполненной\n",
      "3. Удалить задачу\n",
      "4. Показать все задачи\n",
      "5. Поиск задач\n",
      "6. Показать задачи в категории\n",
      "7. Сохранить и выйти\n"
     ]
    },
    {
     "name": "stdin",
     "output_type": "stream",
     "text": [
      "Выберите действие (1-7):  5\n",
      "Введите поисковый запрос:  лампа\n"
     ]
    },
    {
     "name": "stdout",
     "output_type": "stream",
     "text": [
      "Задачи не найдены.\n",
      "\n",
      "1. Добавить задачу\n",
      "2. Отметить задачу выполненной\n",
      "3. Удалить задачу\n",
      "4. Показать все задачи\n",
      "5. Поиск задач\n",
      "6. Показать задачи в категории\n",
      "7. Сохранить и выйти\n"
     ]
    },
    {
     "name": "stdin",
     "output_type": "stream",
     "text": [
      "Выберите действие (1-7):  5\n",
      "Введите поисковый запрос:  лампочка\n"
     ]
    },
    {
     "name": "stdout",
     "output_type": "stream",
     "text": [
      "Задачи не найдены.\n",
      "\n",
      "1. Добавить задачу\n",
      "2. Отметить задачу выполненной\n",
      "3. Удалить задачу\n",
      "4. Показать все задачи\n",
      "5. Поиск задач\n",
      "6. Показать задачи в категории\n",
      "7. Сохранить и выйти\n"
     ]
    },
    {
     "name": "stdin",
     "output_type": "stream",
     "text": [
      "Выберите действие (1-7):  5\n",
      "Введите поисковый запрос:  лампочку\n"
     ]
    },
    {
     "name": "stdout",
     "output_type": "stream",
     "text": [
      "[ ] Поменять лампочку #Дом\n",
      "\n",
      "1. Добавить задачу\n",
      "2. Отметить задачу выполненной\n",
      "3. Удалить задачу\n",
      "4. Показать все задачи\n",
      "5. Поиск задач\n",
      "6. Показать задачи в категории\n",
      "7. Сохранить и выйти\n"
     ]
    },
    {
     "name": "stdin",
     "output_type": "stream",
     "text": [
      "Выберите действие (1-7):  5\n",
      "Введите поисковый запрос:  хобби\n"
     ]
    },
    {
     "name": "stdout",
     "output_type": "stream",
     "text": [
      "[ ] Собрать пазл #Хобби\n",
      "\n",
      "1. Добавить задачу\n",
      "2. Отметить задачу выполненной\n",
      "3. Удалить задачу\n",
      "4. Показать все задачи\n",
      "5. Поиск задач\n",
      "6. Показать задачи в категории\n",
      "7. Сохранить и выйти\n"
     ]
    },
    {
     "name": "stdin",
     "output_type": "stream",
     "text": [
      "Выберите действие (1-7):  7\n"
     ]
    },
    {
     "name": "stdout",
     "output_type": "stream",
     "text": [
      "Задачи сохранены.\n"
     ]
    }
   ],
   "source": [
    "import json\n",
    "import os\n",
    "\n",
    "class Task:\n",
    "    def __init__(self, description, category, completed=False):\n",
    "        self.description = description\n",
    "        self.category = category\n",
    "        self.completed = completed\n",
    "\n",
    "    def to_dict(self):\n",
    "        \"\"\"Преобразует объект Task в словарь для сохранения в JSON.\"\"\"\n",
    "        return {\n",
    "            \"description\": self.description,\n",
    "            \"category\": self.category,\n",
    "            \"completed\": self.completed\n",
    "        }\n",
    "\n",
    "class TaskTracker:\n",
    "    def __init__(self):\n",
    "        self.tasks = []\n",
    "        self.filename = \"tasks.json\"\n",
    "        self.load_tasks()\n",
    "\n",
    "    def add_task(self, description, category):\n",
    "        \"\"\"Добавляет новую задачу в список.\"\"\"\n",
    "        task = Task(description, category)\n",
    "        self.tasks.append(task)\n",
    "        print(\"Задача добавлена.\")\n",
    "\n",
    "    def mark_completed(self, index):\n",
    "        \"\"\"Отмечает задачу как выполненную.\"\"\"\n",
    "        if 0 <= index < len(self.tasks):\n",
    "            self.tasks[index].completed = True\n",
    "            print(\"Задача отмечена как выполненная.\")\n",
    "        else:\n",
    "            print(\"Неверный индекс задачи.\")\n",
    "\n",
    "    def delete_task(self, index):\n",
    "        \"\"\"Удаляет задачу по индексу.\"\"\"\n",
    "        if 0 <= index < len(self.tasks):\n",
    "            deleted_task = self.tasks.pop(index)\n",
    "            print(f\"Задача '{deleted_task.description}' удалена.\")\n",
    "        else:\n",
    "            print(\"Неверный индекс задачи.\")\n",
    "\n",
    "    def list_tasks(self):\n",
    "        \"\"\"Выводит список всех задач.\"\"\"\n",
    "        if not self.tasks:\n",
    "            print(\"Список задач пуст.\")\n",
    "            return\n",
    "        for i, task in enumerate(self.tasks):\n",
    "            status = \"x\" if task.completed else \" \"\n",
    "            print(f\"[{status}] {i+1}. {task.description} #{task.category}\")\n",
    "\n",
    "    def search_tasks(self, query):\n",
    "        \"\"\"Ищет задачи по описанию или категории.\"\"\"\n",
    "        found_tasks = [task for task in self.tasks if query.lower() in task.description.lower() or query.lower() in task.category.lower()]\n",
    "        if not found_tasks:\n",
    "            print(\"Задачи не найдены.\")\n",
    "        else:\n",
    "            for task in found_tasks:\n",
    "                status = \"x\" if task.completed else \" \"\n",
    "                print(f\"[{status}] {task.description} #{task.category}\")\n",
    "\n",
    "    def list_category_tasks(self, category):\n",
    "        \"\"\"Выводит список задач по указанной категории.\"\"\"\n",
    "        category_tasks = [task for task in self.tasks if task.category.lower() == category.lower()]\n",
    "        if not category_tasks:\n",
    "            print(f\"Задачи в категории '{category}' не найдены.\")\n",
    "        else:\n",
    "            for task in category_tasks:\n",
    "                status = \"x\" if task.completed else \" \"\n",
    "                print(f\"[{status}] {task.description} #{task.category}\")\n",
    "\n",
    "    def save_tasks(self):\n",
    "        \"\"\"Сохраняет задачи в файл.\"\"\"\n",
    "        with open(self.filename, \"w\") as f:\n",
    "            json.dump([task.to_dict() for task in self.tasks], f)\n",
    "        print(\"Задачи сохранены.\")\n",
    "\n",
    "    def load_tasks(self):\n",
    "        \"\"\"Загружает задачи из файла.\"\"\"\n",
    "        if os.path.exists(self.filename):\n",
    "            with open(self.filename, \"r\") as f:\n",
    "                tasks_data = json.load(f)\n",
    "            self.tasks = [Task(**task_data) for task_data in tasks_data]\n",
    "            print(\"Задачи загружены.\")\n",
    "        else:\n",
    "            print(\"Файл с задачами не найден. Создан новый список задач.\")\n",
    "\n",
    "tracker = TaskTracker()\n",
    "\n",
    "while True:\n",
    "    print(\"\\n1. Добавить задачу\")\n",
    "    print(\"2. Отметить задачу выполненной\")\n",
    "    print(\"3. Удалить задачу\")\n",
    "    print(\"4. Показать все задачи\")\n",
    "    print(\"5. Поиск задач\")\n",
    "    print(\"6. Показать задачи в категории\")\n",
    "    print(\"7. Сохранить и выйти\")\n",
    "\n",
    "    choice = input(\"Выберите действие (1-7): \")\n",
    "\n",
    "    if choice == \"1\":\n",
    "        description = input(\"Введите описание задачи: \")\n",
    "        category = input(\"Введите категорию задачи: \")\n",
    "        tracker.add_task(description, category)\n",
    "    elif choice == \"2\":\n",
    "        index = int(input(\"Введите номер задачи для отметки выполненной: \")) - 1\n",
    "        tracker.mark_completed(index)\n",
    "    elif choice == \"3\":\n",
    "        index = int(input(\"Введите номер задачи для удаления: \")) - 1\n",
    "        tracker.delete_task(index)\n",
    "    elif choice == \"4\":\n",
    "        tracker.list_tasks()\n",
    "    elif choice == \"5\":\n",
    "        query = input(\"Введите поисковый запрос: \")\n",
    "        tracker.search_tasks(query)\n",
    "    elif choice == \"6\":\n",
    "        category = input(\"Введите категорию для отображения задач: \")\n",
    "        tracker.list_category_tasks(category)\n",
    "    elif choice == \"7\":\n",
    "        tracker.save_tasks()\n",
    "        break\n",
    "    else:\n",
    "        print(\"Неверный выбор. Попробуйте снова.\")"
   ]
  },
  {
   "cell_type": "code",
   "execution_count": 116,
   "id": "1c7ad16e-5efa-430a-89bb-0ddaa95db731",
   "metadata": {},
   "outputs": [
    {
     "name": "stdout",
     "output_type": "stream",
     "text": [
      "\n",
      "1. Добавить транзакцию\n",
      "2. Добавить категорию\n",
      "3. Установить лимит категории\n",
      "4. Показать баланс\n",
      "5. Показать баланс категории\n",
      "6. Выход\n"
     ]
    },
    {
     "name": "stdin",
     "output_type": "stream",
     "text": [
      "Введите ваш выбор:  1\n",
      "Введите описание транзакции:  Покупка продуктов\n",
      "Введите сумму (используйте отрицательное значение для расходов):  -1000\n",
      "Введите категорию:  Продукты\n"
     ]
    },
    {
     "name": "stdout",
     "output_type": "stream",
     "text": [
      "\n",
      "1. Добавить транзакцию\n",
      "2. Добавить категорию\n",
      "3. Установить лимит категории\n",
      "4. Показать баланс\n",
      "5. Показать баланс категории\n",
      "6. Выход\n"
     ]
    },
    {
     "name": "stdin",
     "output_type": "stream",
     "text": [
      "Введите ваш выбор:  1\n",
      "Введите описание транзакции:  Зарплата\n",
      "Введите сумму (используйте отрицательное значение для расходов):  5000\n",
      "Введите категорию:  Зарплата\n"
     ]
    },
    {
     "name": "stdout",
     "output_type": "stream",
     "text": [
      "\n",
      "1. Добавить транзакцию\n",
      "2. Добавить категорию\n",
      "3. Установить лимит категории\n",
      "4. Показать баланс\n",
      "5. Показать баланс категории\n",
      "6. Выход\n"
     ]
    },
    {
     "name": "stdin",
     "output_type": "stream",
     "text": [
      "Введите ваш выбор:  1\n",
      "Введите описание транзакции:  Покупка одежды\n",
      "Введите сумму (используйте отрицательное значение для расходов):  -700\n",
      "Введите категорию:  Одежда\n"
     ]
    },
    {
     "name": "stdout",
     "output_type": "stream",
     "text": [
      "\n",
      "1. Добавить транзакцию\n",
      "2. Добавить категорию\n",
      "3. Установить лимит категории\n",
      "4. Показать баланс\n",
      "5. Показать баланс категории\n",
      "6. Выход\n"
     ]
    },
    {
     "name": "stdin",
     "output_type": "stream",
     "text": [
      "Введите ваш выбор:  2\n",
      "Введите новую категорию:  Развлечения\n"
     ]
    },
    {
     "name": "stdout",
     "output_type": "stream",
     "text": [
      "\n",
      "1. Добавить транзакцию\n",
      "2. Добавить категорию\n",
      "3. Установить лимит категории\n",
      "4. Показать баланс\n",
      "5. Показать баланс категории\n",
      "6. Выход\n"
     ]
    },
    {
     "name": "stdin",
     "output_type": "stream",
     "text": [
      "Введите ваш выбор:  3\n",
      "Введите категорию:  Продукты\n",
      "Введите лимит:  2000\n"
     ]
    },
    {
     "name": "stdout",
     "output_type": "stream",
     "text": [
      "\n",
      "1. Добавить транзакцию\n",
      "2. Добавить категорию\n",
      "3. Установить лимит категории\n",
      "4. Показать баланс\n",
      "5. Показать баланс категории\n",
      "6. Выход\n"
     ]
    },
    {
     "name": "stdin",
     "output_type": "stream",
     "text": [
      "Введите ваш выбор:  1\n",
      "Введите описание транзакции:  Продукты\n",
      "Введите сумму (используйте отрицательное значение для расходов):  -2000\n",
      "Введите категорию:  Продукты\n"
     ]
    },
    {
     "name": "stdout",
     "output_type": "stream",
     "text": [
      "Внимание: Категория 'Продукты' превысила лимит!\n",
      "\n",
      "1. Добавить транзакцию\n",
      "2. Добавить категорию\n",
      "3. Установить лимит категории\n",
      "4. Показать баланс\n",
      "5. Показать баланс категории\n",
      "6. Выход\n"
     ]
    },
    {
     "name": "stdin",
     "output_type": "stream",
     "text": [
      "Введите ваш выбор:  4\n"
     ]
    },
    {
     "name": "stdout",
     "output_type": "stream",
     "text": [
      "Общий баланс: 1300.0\n",
      "\n",
      "1. Добавить транзакцию\n",
      "2. Добавить категорию\n",
      "3. Установить лимит категории\n",
      "4. Показать баланс\n",
      "5. Показать баланс категории\n",
      "6. Выход\n"
     ]
    },
    {
     "name": "stdin",
     "output_type": "stream",
     "text": [
      "Введите ваш выбор:  5\n",
      "Введите категорию:  Продукты\n"
     ]
    },
    {
     "name": "stdout",
     "output_type": "stream",
     "text": [
      "Баланс для Продукты: -3000.0\n",
      "\n",
      "1. Добавить транзакцию\n",
      "2. Добавить категорию\n",
      "3. Установить лимит категории\n",
      "4. Показать баланс\n",
      "5. Показать баланс категории\n",
      "6. Выход\n"
     ]
    },
    {
     "name": "stdin",
     "output_type": "stream",
     "text": [
      "Введите ваш выбор:  6\n"
     ]
    }
   ],
   "source": [
    "import json\n",
    "import os\n",
    "from datetime import datetime\n",
    "\n",
    "class Transaction:\n",
    "    def __init__(self, description, amount, category):\n",
    "        \"\"\"\n",
    "        Инициализация объекта Transaction.\n",
    "        :param description: Описание транзакции.\n",
    "        :param amount: Сумма транзакции (отрицательная для расходов).\n",
    "        :param category: Категория транзакции.\n",
    "        \"\"\"\n",
    "        self.description = description\n",
    "        self.amount = amount\n",
    "        self.category = category\n",
    "        self.date = datetime.now().strftime(\"%Y-%m-%d %H:%M:%S\")\n",
    "\n",
    "class BudgetTracker:\n",
    "    def __init__(self):\n",
    "        \"\"\"\n",
    "        Инициализация объекта BudgetTracker.\n",
    "        \"\"\"\n",
    "        self.transactions = []\n",
    "        self.categories = set()\n",
    "        self.limits = {}\n",
    "        self.load_data()\n",
    "\n",
    "    def add_transaction(self, description, amount, category):\n",
    "        \"\"\"\n",
    "        Добавление новой транзакции.\n",
    "        :param description: Описание транзакции.\n",
    "        :param amount: Сумма транзакции.\n",
    "        :param category: Категория транзакции.\n",
    "        \"\"\"\n",
    "        transaction = Transaction(description, amount, category)\n",
    "        self.transactions.append(transaction)\n",
    "        self.categories.add(category)\n",
    "        self.save_data()\n",
    "\n",
    "    def add_category(self, category):\n",
    "        \"\"\"\n",
    "        Добавление новой категории.\n",
    "        :param category: Название категории.\n",
    "        \"\"\"\n",
    "        self.categories.add(category)\n",
    "        self.save_data()\n",
    "\n",
    "    def set_limit(self, category, limit):\n",
    "        \"\"\"\n",
    "        Установка лимита для категории.\n",
    "        :param category: Название категории.\n",
    "        :param limit: Лимит для категории.\n",
    "        \"\"\"\n",
    "        self.limits[category] = limit\n",
    "        self.save_data()\n",
    "\n",
    "    def get_balance(self):\n",
    "        \"\"\"\n",
    "        Получение общего баланса.\n",
    "        :return: Общий баланс.\n",
    "        \"\"\"\n",
    "        return sum(t.amount for t in self.transactions)\n",
    "\n",
    "    def get_category_balance(self, category):\n",
    "        \"\"\"\n",
    "        Получение баланса для конкретной категории.\n",
    "        :param category: Название категории.\n",
    "        :return: Баланс категории.\n",
    "        \"\"\"\n",
    "        return sum(t.amount for t in self.transactions if t.category == category)\n",
    "\n",
    "    def check_limit(self, category):\n",
    "        \"\"\"\n",
    "        Проверка превышения лимита для категории.\n",
    "        :param category: Название категории.\n",
    "        \"\"\"\n",
    "        if category in self.limits:\n",
    "            balance = self.get_category_balance(category)\n",
    "            if balance < -self.limits[category]:\n",
    "                print(f\"Внимание: Категория '{category}' превысила лимит!\")\n",
    "\n",
    "    def save_data(self):\n",
    "        \"\"\"\n",
    "        Сохранение данных в файл.\n",
    "        \"\"\"\n",
    "        data = {\n",
    "            \"transactions\": [vars(t) for t in self.transactions],\n",
    "            \"categories\": list(self.categories),\n",
    "            \"limits\": self.limits\n",
    "        }\n",
    "        with open(\"budget_data.json\", \"w\") as f:\n",
    "            json.dump(data, f)\n",
    "\n",
    "    def load_data(self):\n",
    "        \"\"\"\n",
    "        Загрузка данных из файла.\n",
    "        \"\"\"\n",
    "        if os.path.exists(\"budget_data.json\"):\n",
    "            with open(\"budget_data.json\", \"r\") as f:\n",
    "                data = json.load(f)\n",
    "            self.transactions = [Transaction(t[\"description\"], t[\"amount\"], t[\"category\"]) for t in data[\"transactions\"]]\n",
    "            self.categories = set(data[\"categories\"])\n",
    "            self.limits = data[\"limits\"]\n",
    "\n",
    "\n",
    "tracker = BudgetTracker()\n",
    "\n",
    "while True:\n",
    "    print(\"\\n1. Добавить транзакцию\")\n",
    "    print(\"2. Добавить категорию\")\n",
    "    print(\"3. Установить лимит категории\")\n",
    "    print(\"4. Показать баланс\")\n",
    "    print(\"5. Показать баланс категории\")\n",
    "    print(\"6. Выход\")\n",
    "\n",
    "    choice = input(\"Введите ваш выбор: \")\n",
    "\n",
    "    if choice == \"1\":\n",
    "        description = input(\"Введите описание транзакции: \")\n",
    "        while True:\n",
    "            try:\n",
    "                amount = float(input(\"Введите сумму (используйте отрицательное значение для расходов): \"))\n",
    "                break\n",
    "            except ValueError:\n",
    "                print(\"Неверная сумма. Пожалуйста, введите число.\")\n",
    "        category = input(\"Введите категорию: \")\n",
    "        tracker.add_transaction(description, amount, category)\n",
    "        tracker.check_limit(category)\n",
    "    elif choice == \"2\":\n",
    "        category = input(\"Введите новую категорию: \")\n",
    "        tracker.add_category(category)\n",
    "    elif choice == \"3\":\n",
    "        category = input(\"Введите категорию: \")\n",
    "        while True:\n",
    "            try:\n",
    "                limit = float(input(\"Введите лимит: \"))\n",
    "                break\n",
    "            except ValueError:\n",
    "                print(\"Неверный лимит. Пожалуйста, введите число.\")\n",
    "        tracker.set_limit(category, limit)\n",
    "    elif choice == \"4\":\n",
    "        print(f\"Общий баланс: {tracker.get_balance()}\")\n",
    "    elif choice == \"5\":\n",
    "        category = input(\"Введите категорию: \")\n",
    "        print(f\"Баланс для {category}: {tracker.get_category_balance(category)}\")\n",
    "    elif choice == \"6\":\n",
    "        break\n",
    "    else:\n",
    "        print(\"Неверный выбор. Пожалуйста, попробуйте снова.\")\n"
   ]
  },
  {
   "cell_type": "code",
   "execution_count": null,
   "id": "91dce747-cd3d-4710-8d21-b599a5ba8e4c",
   "metadata": {},
   "outputs": [],
   "source": []
  }
 ],
 "metadata": {
  "kernelspec": {
   "display_name": "Python 3 (ipykernel)",
   "language": "python",
   "name": "python3"
  },
  "language_info": {
   "codemirror_mode": {
    "name": "ipython",
    "version": 3
   },
   "file_extension": ".py",
   "mimetype": "text/x-python",
   "name": "python",
   "nbconvert_exporter": "python",
   "pygments_lexer": "ipython3",
   "version": "3.12.4"
  }
 },
 "nbformat": 4,
 "nbformat_minor": 5
}
