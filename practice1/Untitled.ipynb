{
 "cells": [
  {
   "cell_type": "code",
   "execution_count": 3,
   "id": "cb42050c-dc66-47b1-9ac2-cb13e9d907a4",
   "metadata": {},
   "outputs": [
    {
     "name": "stdout",
     "output_type": "stream",
     "text": [
      "Исходный список: [45, 62, 38, 74, 17, 28, 32, 48, 50, 62]\n",
      "Перевернутый список: [62, 50, 48, 32, 28, 17, 74, 38, 62, 45]\n"
     ]
    }
   ],
   "source": [
    "#practice 1.1\n",
    "import random\n",
    "\n",
    "# Генерация списка случайных целых чисел\n",
    "list1 = [random.randint(0, 100) for _ in range(10)]\n",
    "print(\"Исходный список:\", list1)\n",
    "\n",
    "# Переворачиваем список\n",
    "list1.reverse()\n",
    "print(\"Перевернутый список:\", list1)\n"
   ]
  },
  {
   "cell_type": "code",
   "execution_count": 5,
   "id": "f9d7cba7-dff8-4f69-8ce9-5bca70e6e2b1",
   "metadata": {},
   "outputs": [
    {
     "name": "stdout",
     "output_type": "stream",
     "text": [
      "Первый список: [91, 82, 45, 69, 22, 3, 99, 17, 17, 9]\n",
      "Второй список: [73, 83, 31, 51, 35, 8, 26, 37, 81, 52]\n",
      "Третий список: [91, 45, 22, 99, 17, 83, 51, 8, 37, 52]\n"
     ]
    }
   ],
   "source": [
    "#practice 1.2\n",
    "# Генерация двух списков случайных целых чисел\n",
    "list1 = [random.randint(0, 100) for _ in range(10)]\n",
    "list2 = [random.randint(0, 100) for _ in range(10)]\n",
    "print(\"Первый список:\", list1)\n",
    "print(\"Второй список:\", list2)\n",
    "\n",
    "# Создание нового списка\n",
    "list3 = []\n",
    "list3.extend(list1[i] for i in range(len(list1)) if i % 2 == 0)\n",
    "list3.extend(list2[i] for i in range(len(list2)) if i % 2 != 0)\n",
    "print(\"Третий список:\", list3)\n"
   ]
  },
  {
   "cell_type": "code",
   "execution_count": 7,
   "id": "8f4d72f9-f3d9-4dcd-aee0-4fe0f6a83577",
   "metadata": {},
   "outputs": [
    {
     "name": "stdout",
     "output_type": "stream",
     "text": [
      "Начальный список: [8.384914174086578, 7, 0, 5.975229862515149, 9, 4, 5, 7, 9.204083657935406, 7.260317712862433, 0.613490739934327, 10, 5.452799885488187, 8.017751010300959, 1, 8, 'a', 6, 'a', 0]\n",
      "Список без дубликатов: [0, 0.613490739934327, 1, 4, 5.975229862515149, 5, 7, 8.384914174086578, 9, 9.204083657935406, 7.260317712862433, 10, 5.452799885488187, 8.017751010300959, 8, 'a', 6]\n"
     ]
    }
   ],
   "source": [
    "#practice 1.3\n",
    "# Генерация списка произвольных элементов\n",
    "list1 = [random.choice([random.randint(0, 10), random.uniform(0, 10), random.choice(['a', 'b', 'c'])]) for _ in range(20)]\n",
    "print(\"Начальный список:\", list1)\n",
    "\n",
    "# Удаление дубликатов\n",
    "unique_list = list(set(list1))\n",
    "print(\"Список без дубликатов:\", unique_list)\n"
   ]
  },
  {
   "cell_type": "code",
   "execution_count": 9,
   "id": "a198219d-91a5-489e-8c4e-5e26a65b783d",
   "metadata": {},
   "outputs": [
    {
     "name": "stdout",
     "output_type": "stream",
     "text": [
      "Словарь: {'a': 6, 'b': 2, 'c': 8.97034304391713, 'd': 1.2251006932428599, 'e': 3.8698415950217555, 'f': 10, 'g': 10, 'h': 3, 'i': 2, 'j': 3}\n",
      "Список кортежей: [(6, ['a']), (2, ['b', 'i']), (8.97034304391713, ['c']), (1.2251006932428599, ['d']), (3.8698415950217555, ['e']), (10, ['f', 'g']), (3, ['h', 'j'])]\n"
     ]
    }
   ],
   "source": [
    "#practice 1.4\n",
    "# Генерация словаря\n",
    "keys = ['a', 'b', 'c', 'd', 'e', 'f', 'g', 'h', 'i', 'j']\n",
    "values = [random.choice([random.randint(0, 10), random.uniform(0, 10)]) for _ in range(len(keys))]\n",
    "dictionary = dict(zip(keys, values))\n",
    "print(\"Словарь:\", dictionary)\n",
    "\n",
    "# Создание списка кортежей\n",
    "value_to_keys = {}\n",
    "for key, value in dictionary.items():\n",
    "    if value not in value_to_keys:\n",
    "        value_to_keys[value] = []\n",
    "    value_to_keys[value].append(key)\n",
    "\n",
    "tuple_list = [(value, keys) for value, keys in value_to_keys.items()]\n",
    "print(\"Список кортежей:\", tuple_list)\n"
   ]
  },
  {
   "cell_type": "code",
   "execution_count": 11,
   "id": "2e9cf20c-fcc5-4b8c-9193-85b0c0925ea7",
   "metadata": {},
   "outputs": [
    {
     "name": "stdout",
     "output_type": "stream",
     "text": [
      "Первый словарь: {'a': 5, 'b': 6, 'c': 5, 'd': 2, 'e': 5}\n",
      "Второй словарь: {'f': 2, 'g': 8, 'h': 6, 'i': 6, 'j': 1}\n",
      "Новый словарь с пересечениями значений: {'b': 6, 'd': 2, 'f': 2, 'h': 6, 'i': 6}\n"
     ]
    }
   ],
   "source": [
    "#practice 1.5\n",
    "# Генерация двух словарей\n",
    "keys1 = ['a', 'b', 'c', 'd', 'e']\n",
    "keys2 = ['f', 'g', 'h', 'i', 'j']\n",
    "values1 = [random.randint(0, 10) for _ in range(len(keys1))]\n",
    "values2 = [random.randint(0, 10) for _ in range(len(keys2))]\n",
    "dict1 = dict(zip(keys1, values1))\n",
    "dict2 = dict(zip(keys2, values2))\n",
    "print(\"Первый словарь:\", dict1)\n",
    "print(\"Второй словарь:\", dict2)\n",
    "\n",
    "# Найдение пересечения значений и создание нового словаря\n",
    "common_values = set(dict1.values()) & set(dict2.values())\n",
    "combined_dict = dict1|dict2\n",
    "result_dict = {key: value for key, value in combined_dict.items() if value in common_values}\n",
    "print(\"Новый словарь с пересечениями значений:\", result_dict)\n"
   ]
  }
 ],
 "metadata": {
  "kernelspec": {
   "display_name": "Python 3 (ipykernel)",
   "language": "python",
   "name": "python3"
  },
  "language_info": {
   "codemirror_mode": {
    "name": "ipython",
    "version": 3
   },
   "file_extension": ".py",
   "mimetype": "text/x-python",
   "name": "python",
   "nbconvert_exporter": "python",
   "pygments_lexer": "ipython3",
   "version": "3.12.4"
  }
 },
 "nbformat": 4,
 "nbformat_minor": 5
}
